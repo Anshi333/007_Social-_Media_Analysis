{
 "cells": [
  {
   "cell_type": "code",
   "execution_count": 2,
   "id": "ac0fa331",
   "metadata": {},
   "outputs": [
    {
     "name": "stdout",
     "output_type": "stream",
     "text": [
      "Requirement already satisfied: cassandra-driver in c:\\users\\anshi mittal\\anaconda3\\lib\\site-packages (3.29.2)\n",
      "Requirement already satisfied: geomet<0.3,>=0.1 in c:\\users\\anshi mittal\\anaconda3\\lib\\site-packages (from cassandra-driver) (0.2.1.post1)\n",
      "Requirement already satisfied: six in c:\\users\\anshi mittal\\anaconda3\\lib\\site-packages (from geomet<0.3,>=0.1->cassandra-driver) (1.16.0)\n",
      "Requirement already satisfied: click in c:\\users\\anshi mittal\\anaconda3\\lib\\site-packages (from geomet<0.3,>=0.1->cassandra-driver) (8.0.4)\n",
      "Requirement already satisfied: colorama in c:\\users\\anshi mittal\\anaconda3\\lib\\site-packages (from click->geomet<0.3,>=0.1->cassandra-driver) (0.4.5)\n"
     ]
    }
   ],
   "source": [
    "!pip install cassandra-driver"
   ]
  },
  {
   "cell_type": "code",
   "execution_count": 22,
   "id": "abe5f13d",
   "metadata": {},
   "outputs": [],
   "source": [
    "from cassandra.cluster import Cluster\n",
    "from cassandra.auth import PlainTextAuthProvider\n",
    "import uuid\n",
    "from datetime import datetime\n",
    "import random\n",
    "import pandas as pd\n",
    "import csv"
   ]
  },
  {
   "cell_type": "code",
   "execution_count": 4,
   "id": "652be672",
   "metadata": {},
   "outputs": [],
   "source": [
    "SECURE_CONNECT_BUNDLE = 'C:/Users/ANSHI MITTAL/Downloads/snsAnalysis/secure-connect-socialmediaengagementanalysis.zip'"
   ]
  },
  {
   "cell_type": "code",
   "execution_count": 5,
   "id": "eb796341",
   "metadata": {},
   "outputs": [],
   "source": [
    "CLIENT_ID = 'coeOJugtKARZWmcDttpkrOuv'\n",
    "CLIENT_SECRET = 'APnoQG-6D3wGp9,-TsB0hDU3EzMxiYh.XHd7tfAM4m3facFzzoLJKKt01dQYnS.,saO2Lbj,5gkqrMa1gbMHw9GvptsbHFBHCqLLQP+RbCGnzIC+uQNOpZM9lAsMJz33'"
   ]
  },
  {
   "cell_type": "code",
   "execution_count": 6,
   "id": "16660ddd",
   "metadata": {},
   "outputs": [],
   "source": [
    "auth_provider = PlainTextAuthProvider(CLIENT_ID, CLIENT_SECRET)\n",
    "cluster = Cluster(cloud={'secure_connect_bundle': SECURE_CONNECT_BUNDLE}, auth_provider=auth_provider)\n",
    "session = cluster.connect()"
   ]
  },
  {
   "cell_type": "code",
   "execution_count": 7,
   "id": "60fa2978",
   "metadata": {},
   "outputs": [],
   "source": [
    "session.set_keyspace('post_performance')"
   ]
  },
  {
   "cell_type": "code",
   "execution_count": 8,
   "id": "04226fe8",
   "metadata": {},
   "outputs": [
    {
     "name": "stdout",
     "output_type": "stream",
     "text": [
      "Table dropped successfully!\n"
     ]
    }
   ],
   "source": [
    "session.execute(\"DROP TABLE IF EXISTS post_performance\")\n",
    "print(\"Table dropped successfully!\")"
   ]
  },
  {
   "cell_type": "code",
   "execution_count": 9,
   "id": "d0e05a66",
   "metadata": {},
   "outputs": [
    {
     "name": "stdout",
     "output_type": "stream",
     "text": [
      "Table created.\n"
     ]
    }
   ],
   "source": [
    "session.execute(\"\"\"\n",
    "CREATE TABLE IF NOT EXISTS post_performance (\n",
    "    post_id UUID PRIMARY KEY,\n",
    "    post_type TEXT,\n",
    "    likes INT,\n",
    "    comments INT,\n",
    "    shares INT,\n",
    "    post_date TIMESTAMP,\n",
    "    user_id UUID,\n",
    "    views BIGINT\n",
    ")\n",
    "\"\"\")\n",
    "print(\"Table created.\")"
   ]
  },
  {
   "cell_type": "code",
   "execution_count": 10,
   "id": "ee58b787",
   "metadata": {},
   "outputs": [],
   "source": [
    "def generate_random_data():\n",
    "    post_types = ['Static', 'Carousel', 'Reel']\n",
    "    start_date = datetime(2024, 1, 1)\n",
    "    end_date = datetime.now()\n",
    "    \n",
    "    for _ in range(100):\n",
    "        post_id = uuid.uuid4()\n",
    "        post_type = random.choice(post_types)\n",
    "        likes = random.randint(100, 5000)\n",
    "        comments = random.randint(10, 1000)\n",
    "        shares = random.randint(5, 500)\n",
    "        post_date = start_date + (end_date - start_date) * random.random()\n",
    "        user_id = uuid.uuid4()\n",
    "        views = random.randint(10000, 100000000)\n",
    "        \n",
    "        session.execute(\"\"\"\n",
    "        INSERT INTO post_performance (post_id, post_type, likes, comments, shares, post_date, user_id,views)\n",
    "        VALUES (%s, %s, %s, %s, %s, %s,%s,%s)\n",
    "        \"\"\", (post_id, post_type, likes, comments, shares, post_date,user_id,views))\n",
    "\n",
    "    print(\"Data generated and inserted into Astra DB!\")\n"
   ]
  },
  {
   "cell_type": "code",
   "execution_count": 11,
   "id": "318cb5ba",
   "metadata": {},
   "outputs": [
    {
     "name": "stdout",
     "output_type": "stream",
     "text": [
      "Data generated and inserted into Astra DB!\n"
     ]
    }
   ],
   "source": [
    "generate_random_data()"
   ]
  },
  {
   "cell_type": "code",
   "execution_count": 12,
   "id": "d93042f9",
   "metadata": {},
   "outputs": [
    {
     "name": "stdout",
     "output_type": "stream",
     "text": [
      "Row(post_id=UUID('2687a1b3-e583-4e1b-9df4-3f05dbf6f0ad'), comments=950, likes=578, post_date=datetime.datetime(2024, 9, 14, 18, 2, 15, 663000), post_type='Static', shares=412, user_id=UUID('6f5d2c1b-a88c-48fc-b4ec-adae2c6d547e'), views=48381562)\n",
      "Row(post_id=UUID('6afabeba-98d0-4578-a746-358e12ccc7bf'), comments=833, likes=2521, post_date=datetime.datetime(2024, 8, 7, 13, 17, 47, 671000), post_type='Static', shares=352, user_id=UUID('2121d9e9-2c61-48eb-9f7c-6f91920a616f'), views=55251339)\n",
      "Row(post_id=UUID('a53920d7-0c53-4cc6-8f44-74cdb72bc5d9'), comments=696, likes=3840, post_date=datetime.datetime(2024, 3, 14, 9, 23, 51, 170000), post_type='Static', shares=263, user_id=UUID('313ced68-6de9-47ee-8231-f0d3dec56069'), views=42919037)\n",
      "Row(post_id=UUID('a6049cac-ead4-4e7e-8d49-faeb17ce00dd'), comments=472, likes=135, post_date=datetime.datetime(2024, 11, 11, 0, 43, 8, 224000), post_type='Reel', shares=439, user_id=UUID('2a4cf373-21ea-44ba-ae16-6d4acbeb927b'), views=40529089)\n",
      "Row(post_id=UUID('4d3c7ae3-1d85-47a6-a4d4-8ec6185baa90'), comments=834, likes=2212, post_date=datetime.datetime(2025, 1, 3, 3, 54, 56, 454000), post_type='Carousel', shares=44, user_id=UUID('ac746a56-eea6-4a49-997f-d74608609108'), views=82764574)\n",
      "Row(post_id=UUID('de025115-89c3-4452-825a-9b9f38a04b9e'), comments=705, likes=772, post_date=datetime.datetime(2024, 6, 3, 2, 38, 52, 66000), post_type='Carousel', shares=369, user_id=UUID('428479d9-49dc-4363-8e63-19f1d96347db'), views=61759952)\n",
      "Row(post_id=UUID('c11f6907-06c0-4e5c-a6b5-548ab4087de4'), comments=360, likes=4778, post_date=datetime.datetime(2024, 11, 21, 6, 18, 58, 922000), post_type='Static', shares=86, user_id=UUID('5d637335-618d-47f9-ac27-ece2d6bc26ef'), views=53719614)\n",
      "Row(post_id=UUID('e78948e0-ec30-44cf-8d1c-bf374d38b6c4'), comments=461, likes=4138, post_date=datetime.datetime(2024, 8, 2, 20, 11, 13, 483000), post_type='Reel', shares=252, user_id=UUID('503fdaf1-27dd-478b-80a9-e8b6a94903e7'), views=80004271)\n",
      "Row(post_id=UUID('e640f244-b531-499b-9aca-3bd3954417a2'), comments=550, likes=1131, post_date=datetime.datetime(2024, 12, 1, 14, 53, 0, 324000), post_type='Static', shares=487, user_id=UUID('7221fba1-24b7-45c2-b587-83caa2013c2a'), views=49236237)\n",
      "Row(post_id=UUID('18de7cd9-1c94-4343-81f0-b0afed43dda9'), comments=359, likes=4083, post_date=datetime.datetime(2024, 11, 20, 11, 33, 21, 211000), post_type='Static', shares=98, user_id=UUID('a7f35017-9f93-4e59-8aad-45097748e659'), views=83841272)\n",
      "Row(post_id=UUID('08437666-9f88-44f0-aaaa-9bb4d0ed4fbc'), comments=426, likes=2650, post_date=datetime.datetime(2024, 6, 13, 7, 16, 34, 736000), post_type='Reel', shares=448, user_id=UUID('7212a187-0c1b-4309-bc43-b740ea78cb41'), views=60042664)\n",
      "Row(post_id=UUID('529be587-dd09-40ae-adba-3db30a8a1d38'), comments=292, likes=1932, post_date=datetime.datetime(2024, 3, 16, 17, 40, 2, 649000), post_type='Static', shares=133, user_id=UUID('10dccc12-1ca3-4456-98cc-9a682f23410e'), views=67837623)\n",
      "Row(post_id=UUID('1e9f7d7c-2cee-40b9-b5f6-0b2ab40044ae'), comments=507, likes=1504, post_date=datetime.datetime(2024, 4, 22, 3, 2, 7, 436000), post_type='Static', shares=310, user_id=UUID('c03a908a-aa68-446f-bece-2ee98adde298'), views=13280502)\n",
      "Row(post_id=UUID('4ece50cd-0d2c-48df-8605-2c9405fd5a94'), comments=564, likes=450, post_date=datetime.datetime(2024, 12, 2, 15, 16, 27, 662000), post_type='Carousel', shares=257, user_id=UUID('4903ed6e-3c51-4cd1-9e2f-02c250a76965'), views=66533926)\n",
      "Row(post_id=UUID('3c59454c-d8c5-4456-8f1d-2bbd611a5765'), comments=352, likes=4903, post_date=datetime.datetime(2024, 1, 13, 2, 24, 10, 710000), post_type='Carousel', shares=153, user_id=UUID('902f327e-cbbb-46ae-b970-ddf7306622fd'), views=32835601)\n",
      "Row(post_id=UUID('43acfc02-c36f-4359-9034-fc25557f8a9d'), comments=143, likes=4443, post_date=datetime.datetime(2024, 2, 22, 15, 18, 25, 601000), post_type='Carousel', shares=270, user_id=UUID('7036e06e-58ab-429a-aa7c-6cdbaaac4464'), views=51872927)\n",
      "Row(post_id=UUID('2bea1cd9-7f27-412a-8832-29e3f9f7a3e7'), comments=593, likes=4647, post_date=datetime.datetime(2024, 1, 9, 7, 39, 43, 661000), post_type='Carousel', shares=252, user_id=UUID('620e01b3-aba2-46bf-a047-4833bf7df87b'), views=78313853)\n",
      "Row(post_id=UUID('3148e80d-0ccc-4e20-95bd-4b82006a6594'), comments=654, likes=3803, post_date=datetime.datetime(2024, 5, 11, 8, 30, 44, 939000), post_type='Static', shares=338, user_id=UUID('08e1e24e-e38d-4b60-9154-33b42ad6c748'), views=54746541)\n",
      "Row(post_id=UUID('c66702e5-a462-493e-b66e-65acdbcf5007'), comments=867, likes=4026, post_date=datetime.datetime(2024, 8, 21, 10, 8, 38, 450000), post_type='Carousel', shares=309, user_id=UUID('c1cf4b1e-5605-455d-b871-aa1a9d5828ae'), views=65410432)\n",
      "Row(post_id=UUID('eeeca17d-7b6a-4651-8ab6-62a497051409'), comments=462, likes=4462, post_date=datetime.datetime(2024, 1, 23, 19, 45, 37, 923000), post_type='Reel', shares=460, user_id=UUID('db2301b8-dffc-463e-8223-15c67986936e'), views=97771095)\n",
      "Row(post_id=UUID('0c1074db-dcbd-4b17-abdb-100a4262b8a1'), comments=805, likes=2592, post_date=datetime.datetime(2024, 7, 27, 14, 55, 27, 320000), post_type='Static', shares=80, user_id=UUID('21395e05-f20a-4ee2-9680-50866e6c2c5b'), views=45951966)\n",
      "Row(post_id=UUID('8e8bff07-1f7d-4906-8f70-920fcd64b710'), comments=464, likes=3419, post_date=datetime.datetime(2024, 2, 6, 17, 30, 45, 651000), post_type='Carousel', shares=342, user_id=UUID('b2aa584c-1c66-41c7-a462-2b66a5f27bd4'), views=70616434)\n",
      "Row(post_id=UUID('65144b45-d7b5-4e45-b037-f70e8789879c'), comments=762, likes=710, post_date=datetime.datetime(2024, 6, 26, 12, 39, 4, 707000), post_type='Carousel', shares=242, user_id=UUID('df17ac70-bc04-4f50-86e3-7abcdc595764'), views=61486061)\n",
      "Row(post_id=UUID('208384d4-cd60-48b7-a507-3d67f70f6d41'), comments=68, likes=1895, post_date=datetime.datetime(2024, 2, 11, 11, 36, 29, 120000), post_type='Carousel', shares=170, user_id=UUID('ee0a7f7f-8da9-4033-a22e-7de2df1c1788'), views=53592295)\n",
      "Row(post_id=UUID('3dbc180c-2d7a-4e81-8123-4fd791237540'), comments=435, likes=4364, post_date=datetime.datetime(2024, 1, 14, 20, 49, 11, 629000), post_type='Carousel', shares=107, user_id=UUID('805d7dc6-05ec-42a2-9dc0-1f139d8f9f1f'), views=43739453)\n",
      "Row(post_id=UUID('ef70cc73-7707-4b59-8b35-08876f836a87'), comments=361, likes=2647, post_date=datetime.datetime(2024, 8, 26, 6, 29, 37, 317000), post_type='Static', shares=134, user_id=UUID('6a5504ab-8a96-46b4-9904-c8de73942c15'), views=98345588)\n",
      "Row(post_id=UUID('e5b9dac6-f434-4391-8f36-e362a9a74411'), comments=621, likes=1697, post_date=datetime.datetime(2024, 3, 8, 0, 3, 45, 595000), post_type='Static', shares=18, user_id=UUID('3cbdd1a5-0cd2-4693-85a0-a10aceed68ea'), views=11108415)\n",
      "Row(post_id=UUID('0540a9f5-240e-4c66-85b2-13557159b2bd'), comments=419, likes=3006, post_date=datetime.datetime(2024, 4, 30, 15, 3, 9, 880000), post_type='Carousel', shares=62, user_id=UUID('901bcc48-c417-43aa-abee-6d5cd109d929'), views=26025414)\n",
      "Row(post_id=UUID('2b344931-1e78-430e-a412-649c4b10d04f'), comments=154, likes=3819, post_date=datetime.datetime(2024, 3, 30, 12, 5, 46, 896000), post_type='Carousel', shares=106, user_id=UUID('cf5f3870-9ccb-4987-a0c0-d18416beaaaa'), views=55462621)\n",
      "Row(post_id=UUID('c954a4a0-d962-4652-856a-8ebb81d10dc2'), comments=245, likes=785, post_date=datetime.datetime(2024, 2, 25, 9, 15, 17, 623000), post_type='Carousel', shares=200, user_id=UUID('a2bd137c-5379-4adc-b94c-a7c8a4290d6e'), views=38480231)\n",
      "Row(post_id=UUID('d354103c-c236-4295-b58d-b84c1645462c'), comments=182, likes=1823, post_date=datetime.datetime(2024, 11, 13, 16, 55, 32, 399000), post_type='Carousel', shares=405, user_id=UUID('4adc6dbd-8ac9-416e-924e-11d3bb0bb167'), views=3773515)\n",
      "Row(post_id=UUID('35b3f1b8-1839-4716-bdde-493aff40fce7'), comments=800, likes=2846, post_date=datetime.datetime(2024, 9, 5, 22, 39, 44, 983000), post_type='Static', shares=50, user_id=UUID('52cccab4-16d9-43b6-90b9-7d863191d6d3'), views=10456064)\n",
      "Row(post_id=UUID('6c9b6b6c-9871-4808-aed6-10eb87dd31eb'), comments=160, likes=4764, post_date=datetime.datetime(2024, 9, 27, 12, 49, 19, 730000), post_type='Reel', shares=191, user_id=UUID('735f6a9c-69e1-43a0-bf6e-a7ab44ec55f0'), views=1919866)\n",
      "Row(post_id=UUID('b3938d07-8367-4dae-83b0-bb227be6e1e8'), comments=725, likes=4234, post_date=datetime.datetime(2024, 3, 24, 7, 11, 27, 506000), post_type='Carousel', shares=74, user_id=UUID('42bf50c4-fa62-4194-9a45-94396b1d0593'), views=20452105)\n",
      "Row(post_id=UUID('85aae7e9-3b7c-41b6-9624-1d41b14a18ad'), comments=162, likes=4755, post_date=datetime.datetime(2024, 5, 16, 5, 15, 40, 220000), post_type='Carousel', shares=467, user_id=UUID('781367f7-cdef-4a1c-9612-b5144ea070e6'), views=31139330)\n",
      "Row(post_id=UUID('4668fb56-28ba-4ea9-8b33-c0ff26af9809'), comments=213, likes=1846, post_date=datetime.datetime(2024, 4, 9, 21, 52, 7, 622000), post_type='Reel', shares=135, user_id=UUID('4e28050e-5592-4fa7-9dc2-0acbd8065535'), views=9451491)\n",
      "Row(post_id=UUID('167b1e0d-74cd-47cc-926e-924dd8ccce9a'), comments=830, likes=4931, post_date=datetime.datetime(2024, 1, 12, 13, 31, 1, 914000), post_type='Carousel', shares=169, user_id=UUID('27c517be-c4fb-4390-b0ed-42668d5cc4e3'), views=58342201)\n",
      "Row(post_id=UUID('914d1713-ed18-4e1c-914a-08b4d6416f22'), comments=475, likes=3835, post_date=datetime.datetime(2024, 1, 4, 0, 7, 13, 477000), post_type='Carousel', shares=295, user_id=UUID('c93bc610-7cdc-4c28-9975-7c7f4ba7ec84'), views=23574966)\n",
      "Row(post_id=UUID('1af71610-e6d9-46ae-9d8d-5c16e58940f0'), comments=561, likes=4106, post_date=datetime.datetime(2024, 8, 27, 17, 50, 7, 477000), post_type='Reel', shares=259, user_id=UUID('c0665029-b43e-45ef-a705-d710e603f7c3'), views=61933947)\n",
      "Row(post_id=UUID('8a7f8f5e-7dcf-4669-a07c-51281ed35b9a'), comments=628, likes=3280, post_date=datetime.datetime(2024, 6, 7, 9, 15, 55, 370000), post_type='Reel', shares=129, user_id=UUID('a7c06a56-9a54-4592-9b0d-f51d9126840c'), views=81164778)\n",
      "Row(post_id=UUID('bb6d032f-0966-4bd5-807b-be95ff9fa48a'), comments=925, likes=1385, post_date=datetime.datetime(2024, 8, 6, 7, 58, 11, 202000), post_type='Reel', shares=131, user_id=UUID('f4a18d35-fc95-4409-a770-780b6623fa8c'), views=53375278)\n",
      "Row(post_id=UUID('cbbc9f58-505d-4d4a-b578-7120e5a6735c'), comments=130, likes=3764, post_date=datetime.datetime(2024, 5, 20, 14, 13, 33, 914000), post_type='Static', shares=110, user_id=UUID('aebc81d3-bf88-4b13-8b96-53aa32f3d83f'), views=87892901)\n",
      "Row(post_id=UUID('ab66bc3c-50ec-4e04-a366-c29511abed73'), comments=813, likes=2249, post_date=datetime.datetime(2024, 11, 8, 0, 32, 19, 1000), post_type='Carousel', shares=410, user_id=UUID('9054d184-0b43-4a34-8c4d-918a6dc226dd'), views=39824773)\n",
      "Row(post_id=UUID('d66522cc-3af5-41c9-8382-b8c9bb7a0602'), comments=729, likes=519, post_date=datetime.datetime(2024, 5, 24, 18, 40, 56, 839000), post_type='Static', shares=28, user_id=UUID('ac3c81b5-eed4-4421-8133-93cb19520644'), views=41986905)\n",
      "Row(post_id=UUID('77c738ef-15ca-4eb8-a8c6-938b0d26764b'), comments=495, likes=1334, post_date=datetime.datetime(2024, 4, 14, 0, 19, 4, 200000), post_type='Static', shares=422, user_id=UUID('5c14bb4c-57eb-4d82-add9-f5dbf2d0f988'), views=41810898)\n",
      "Row(post_id=UUID('adbf086a-4b91-4d29-8403-5cc29f150557'), comments=57, likes=2689, post_date=datetime.datetime(2024, 6, 20, 19, 42, 17, 52000), post_type='Carousel', shares=43, user_id=UUID('c0f51b9c-3a0f-44d5-a3a0-1873c844dadd'), views=50250847)\n",
      "Row(post_id=UUID('c3833b80-4584-4c93-bf39-cd21dcb2fbc5'), comments=631, likes=3640, post_date=datetime.datetime(2024, 8, 13, 3, 49, 13, 244000), post_type='Static', shares=469, user_id=UUID('071243ca-a100-4926-9f74-5975d1c3efe8'), views=5563329)\n",
      "Row(post_id=UUID('4bdf0c6f-9d8f-49e6-a6a7-0f8c3492ed05'), comments=684, likes=4644, post_date=datetime.datetime(2024, 5, 24, 9, 6, 46, 463000), post_type='Reel', shares=152, user_id=UUID('e0030991-3787-4be1-89dd-9eb5d58353a3'), views=3060753)\n",
      "Row(post_id=UUID('bff9e936-25e9-4489-b821-c6a632f63281'), comments=680, likes=4974, post_date=datetime.datetime(2024, 4, 2, 22, 19, 16, 814000), post_type='Static', shares=471, user_id=UUID('b394ffd7-9fa3-46a6-a52e-bd440c904e2d'), views=14834831)\n",
      "Row(post_id=UUID('aed8e35a-db08-47d4-9652-328e42d8acef'), comments=397, likes=4894, post_date=datetime.datetime(2024, 8, 24, 9, 51, 4, 478000), post_type='Reel', shares=407, user_id=UUID('9a69e67f-1283-4766-89ba-32264c31f8f4'), views=32691008)\n",
      "Row(post_id=UUID('51aa7e50-dd27-46d8-83f5-a32798412eac'), comments=140, likes=4615, post_date=datetime.datetime(2024, 6, 10, 0, 31, 28, 371000), post_type='Carousel', shares=303, user_id=UUID('c537d984-cd12-4ad4-87c7-717ceae37b8a'), views=35897654)\n",
      "Row(post_id=UUID('7d071ee2-512e-450b-aa8c-44e5eae744f1'), comments=145, likes=1537, post_date=datetime.datetime(2024, 8, 6, 11, 25, 4, 459000), post_type='Static', shares=135, user_id=UUID('b5c55f50-acdb-4646-b5e6-866476f729e7'), views=84971840)\n",
      "Row(post_id=UUID('ef6892c3-5ff2-4c9a-8e19-76b34334c972'), comments=572, likes=2131, post_date=datetime.datetime(2024, 6, 8, 9, 45, 9, 876000), post_type='Carousel', shares=294, user_id=UUID('8104b147-d281-4cea-98dc-3cf60cf9531b'), views=99183096)\n",
      "Row(post_id=UUID('d65f39cc-6fcb-41a9-81b8-2920be41ebf6'), comments=339, likes=4974, post_date=datetime.datetime(2024, 9, 6, 20, 45, 25, 627000), post_type='Reel', shares=424, user_id=UUID('34283767-c237-4863-8449-da3db3183e69'), views=53905398)\n",
      "Row(post_id=UUID('2ce57cd3-e4cf-444d-89a6-9740dee55907'), comments=772, likes=1130, post_date=datetime.datetime(2024, 2, 4, 18, 40, 42, 914000), post_type='Static', shares=189, user_id=UUID('6106d3b7-3555-4c89-b041-8f2698c8e242'), views=20319683)\n",
      "Row(post_id=UUID('450b2ffb-e9fb-4d3b-8115-7ba74b9c64b1'), comments=220, likes=2945, post_date=datetime.datetime(2024, 6, 7, 5, 2, 39, 293000), post_type='Carousel', shares=107, user_id=UUID('f8f90300-0cf3-436b-b9ba-6df7a0e8e369'), views=40005028)\n",
      "Row(post_id=UUID('4da6e207-a2d2-486b-81e3-fc08b2a75343'), comments=163, likes=2674, post_date=datetime.datetime(2024, 2, 23, 11, 15, 12, 637000), post_type='Static', shares=147, user_id=UUID('ff0f28eb-cd47-4735-90fe-c6153566b755'), views=97082500)\n",
      "Row(post_id=UUID('f2466370-957a-46f1-8427-43cb21933440'), comments=105, likes=3966, post_date=datetime.datetime(2024, 3, 4, 4, 43, 52, 432000), post_type='Static', shares=163, user_id=UUID('96304306-96cc-4233-919e-f6b09db9c06c'), views=7279767)\n",
      "Row(post_id=UUID('fa94ab89-bed5-4986-8db6-809c57dc0b1d'), comments=267, likes=1095, post_date=datetime.datetime(2024, 4, 13, 19, 15, 17, 106000), post_type='Carousel', shares=360, user_id=UUID('0eb44cc5-254c-4cc3-9c0f-098f916d5f09'), views=93312)\n",
      "Row(post_id=UUID('a7eee74e-3a7a-43f7-a1c7-9dc7094ecc62'), comments=608, likes=1831, post_date=datetime.datetime(2024, 11, 11, 7, 4, 52, 889000), post_type='Static', shares=388, user_id=UUID('8a2a8b12-f601-4a25-8aad-bc6eb649bd2e'), views=30963521)\n",
      "Row(post_id=UUID('1bc8bd36-1d79-4ba5-a30e-aa8ffdb39aab'), comments=40, likes=3128, post_date=datetime.datetime(2025, 1, 3, 22, 30, 47, 292000), post_type='Reel', shares=85, user_id=UUID('4bb09592-3312-4104-9a59-987af710fe2c'), views=46691374)\n",
      "Row(post_id=UUID('83f7e600-61cf-4d76-8e54-ca303af357f2'), comments=601, likes=4716, post_date=datetime.datetime(2024, 5, 14, 15, 1, 53, 877000), post_type='Reel', shares=344, user_id=UUID('f1ed737f-292d-4379-96f1-8eb20caf3bb0'), views=64223496)\n",
      "Row(post_id=UUID('630a51e3-33e2-4bed-838e-74fb5139ffde'), comments=66, likes=2197, post_date=datetime.datetime(2024, 2, 29, 15, 50, 55, 773000), post_type='Reel', shares=33, user_id=UUID('24ac24f4-1a3e-454c-850e-4d30c4e687c4'), views=55502613)\n",
      "Row(post_id=UUID('63eab3f4-99be-4cd2-8a14-bf62bc45db75'), comments=885, likes=2229, post_date=datetime.datetime(2024, 4, 21, 23, 36, 32, 348000), post_type='Reel', shares=472, user_id=UUID('cb27ef74-dfc6-4c3a-b1c1-00b616eaa25d'), views=67119053)\n",
      "Row(post_id=UUID('1b21b755-9cb6-4225-8331-59269f679cd8'), comments=874, likes=4503, post_date=datetime.datetime(2024, 8, 21, 7, 9, 25, 50000), post_type='Carousel', shares=128, user_id=UUID('72e96565-9907-4a12-b1a2-ebe1f7629245'), views=68131604)\n",
      "Row(post_id=UUID('db51519c-0e2b-4681-93a6-311f9f17846a'), comments=29, likes=1203, post_date=datetime.datetime(2024, 2, 10, 5, 28, 52, 469000), post_type='Static', shares=53, user_id=UUID('de259926-0598-4edc-98bd-81ef615efeac'), views=21168070)\n",
      "Row(post_id=UUID('9015e8fd-dcfc-4c94-8065-b583b0b4fd31'), comments=697, likes=1969, post_date=datetime.datetime(2024, 8, 24, 12, 10, 56, 52000), post_type='Carousel', shares=406, user_id=UUID('48034b8d-1402-4f80-8e2c-48e98b1d8650'), views=26036484)\n",
      "Row(post_id=UUID('8f74c31e-2738-460c-baf2-b17b87136fb8'), comments=906, likes=2302, post_date=datetime.datetime(2024, 2, 17, 21, 14, 12, 984000), post_type='Carousel', shares=437, user_id=UUID('5e853451-41eb-496a-880b-8ffcabbaf87a'), views=93260054)\n",
      "Row(post_id=UUID('5fe95f65-f906-4fa3-b2d3-48020d281608'), comments=883, likes=266, post_date=datetime.datetime(2024, 3, 3, 1, 4, 44, 720000), post_type='Reel', shares=56, user_id=UUID('abd79484-ab1a-4457-8083-9e24086eb0a2'), views=84175955)\n",
      "Row(post_id=UUID('adebd6e1-6e0d-4e53-b000-b2c0197b83aa'), comments=744, likes=4073, post_date=datetime.datetime(2024, 4, 19, 9, 38, 27, 106000), post_type='Static', shares=80, user_id=UUID('b1edd808-cda5-4a6c-be44-3b3c2a3943e1'), views=61918209)\n",
      "Row(post_id=UUID('cff253fc-03e9-4f05-831d-123717ed9080'), comments=122, likes=1753, post_date=datetime.datetime(2024, 3, 25, 20, 6, 19, 953000), post_type='Static', shares=44, user_id=UUID('48acddb7-f22a-4e5d-9bb7-5ebbb59b0568'), views=38350879)\n",
      "Row(post_id=UUID('496b9709-14da-449e-b243-2683f6aeac46'), comments=500, likes=2156, post_date=datetime.datetime(2024, 6, 16, 21, 56, 24, 505000), post_type='Reel', shares=360, user_id=UUID('20cb15a9-2eb4-4e0e-b30e-bcb68de8b86a'), views=79796188)\n",
      "Row(post_id=UUID('90e29a57-16a4-4a90-a549-0dd77d277e0b'), comments=627, likes=729, post_date=datetime.datetime(2024, 5, 7, 4, 12, 27, 431000), post_type='Reel', shares=336, user_id=UUID('253d724a-731c-4b37-9bed-e9bbde89d330'), views=26517587)\n",
      "Row(post_id=UUID('00312826-51f2-46d4-a594-e42286773f4c'), comments=199, likes=2834, post_date=datetime.datetime(2024, 5, 7, 12, 12, 19, 681000), post_type='Reel', shares=338, user_id=UUID('64649fcc-c476-4e9d-873f-90b3816f2cf7'), views=82807943)\n",
      "Row(post_id=UUID('b63c5229-933c-40b6-8bc2-031ab525302c'), comments=794, likes=3398, post_date=datetime.datetime(2024, 7, 2, 22, 50, 19, 442000), post_type='Static', shares=141, user_id=UUID('a988c407-d96e-4011-a92f-301cf64111d9'), views=65656331)\n",
      "Row(post_id=UUID('4dc9b97f-d7da-4f0a-b40d-21f80fe6f819'), comments=959, likes=3881, post_date=datetime.datetime(2024, 7, 18, 5, 1, 46, 608000), post_type='Reel', shares=23, user_id=UUID('180a6087-a52b-428d-ba0d-2c1468b8d5b0'), views=25448866)\n",
      "Row(post_id=UUID('06ad93cc-ad97-4e98-9961-721ef8fc1b18'), comments=493, likes=393, post_date=datetime.datetime(2024, 11, 23, 18, 18, 12, 329000), post_type='Reel', shares=124, user_id=UUID('30589e82-f44d-4072-8bb6-cdd4f239abcf'), views=72865516)\n",
      "Row(post_id=UUID('1b993d82-31b9-417e-8aa5-da6d007a7a69'), comments=756, likes=4084, post_date=datetime.datetime(2024, 11, 3, 21, 21, 52, 837000), post_type='Carousel', shares=340, user_id=UUID('7f9e9045-1cc4-4a93-8d9f-295a4f8ec50f'), views=50060262)\n",
      "Row(post_id=UUID('358aad0c-1d47-4da9-b6e5-ad25e4910b94'), comments=617, likes=2939, post_date=datetime.datetime(2024, 7, 24, 10, 54, 41, 297000), post_type='Reel', shares=247, user_id=UUID('81efe458-6d16-4a59-b2f5-6b3a18b17cde'), views=1728116)\n",
      "Row(post_id=UUID('0eaa47eb-729e-4062-992b-b956446ed050'), comments=651, likes=3858, post_date=datetime.datetime(2024, 9, 18, 10, 32, 5, 7000), post_type='Static', shares=187, user_id=UUID('7e77a546-8542-43c9-bbbb-534e380dc471'), views=83230907)\n",
      "Row(post_id=UUID('7a2b0b1e-1381-4f7f-9bbd-a5207d5dce60'), comments=250, likes=858, post_date=datetime.datetime(2024, 9, 17, 16, 7, 17, 288000), post_type='Reel', shares=77, user_id=UUID('fb4393cf-7a0d-4802-a124-85488fe64b05'), views=97638904)\n",
      "Row(post_id=UUID('29860709-494a-431e-aeae-d4c53c892769'), comments=536, likes=1077, post_date=datetime.datetime(2024, 2, 9, 23, 18, 19, 591000), post_type='Carousel', shares=474, user_id=UUID('311e4f17-b94e-41ce-91a9-36ba976738a7'), views=92110027)\n",
      "Row(post_id=UUID('32c50885-252d-41b9-84d5-4caf66d0b54b'), comments=683, likes=1843, post_date=datetime.datetime(2024, 12, 9, 10, 59, 7, 268000), post_type='Reel', shares=118, user_id=UUID('1a4dc5bc-6ca4-4abd-8d6b-f670b1a32625'), views=92181522)\n",
      "Row(post_id=UUID('1c30929f-a3e2-4a90-8219-5f59a0c73393'), comments=613, likes=4911, post_date=datetime.datetime(2024, 8, 17, 3, 3, 6, 454000), post_type='Reel', shares=388, user_id=UUID('ae8d040c-732a-4e84-bfad-63fc91bc9e8c'), views=26311337)\n",
      "Row(post_id=UUID('5d30cbf5-7d3d-42ca-81e8-1910d82a6c37'), comments=805, likes=496, post_date=datetime.datetime(2024, 10, 8, 12, 17, 20, 5000), post_type='Static', shares=82, user_id=UUID('c88bd727-31ce-48ad-9388-3d59b1cd12a2'), views=26407863)\n",
      "Row(post_id=UUID('8665da91-6f7b-4eed-9973-d0f3e3b530c0'), comments=488, likes=1702, post_date=datetime.datetime(2024, 3, 19, 17, 29, 1, 977000), post_type='Reel', shares=117, user_id=UUID('11d292fc-e6d2-42e3-a672-26cb81736d9d'), views=90444374)\n",
      "Row(post_id=UUID('07fe8762-dcff-4816-9959-af99021f8f80'), comments=532, likes=1966, post_date=datetime.datetime(2024, 12, 12, 12, 56, 5, 960000), post_type='Carousel', shares=86, user_id=UUID('dea87872-f923-40d5-a67c-f9a8c33003e7'), views=59555539)\n",
      "Row(post_id=UUID('fdbe2717-dce8-41c9-9f9a-ea08fc9ffe4b'), comments=119, likes=122, post_date=datetime.datetime(2024, 7, 4, 10, 3, 19, 480000), post_type='Reel', shares=203, user_id=UUID('13912efe-54dc-4352-93ed-8729dc4da1a3'), views=51497415)\n",
      "Row(post_id=UUID('e3696ef2-8af4-4684-a6e2-aeafb1188b6c'), comments=675, likes=1076, post_date=datetime.datetime(2024, 2, 21, 1, 5, 4, 203000), post_type='Carousel', shares=206, user_id=UUID('e1e8f0b6-7493-4b2d-8252-aab76d5fbb23'), views=28614389)\n",
      "Row(post_id=UUID('9e1946fa-9cb9-4456-8836-2d84e5454cde'), comments=380, likes=2542, post_date=datetime.datetime(2024, 8, 28, 0, 35, 15, 133000), post_type='Carousel', shares=496, user_id=UUID('a5e164aa-3edb-4144-9f2f-2bb8abfa56fc'), views=52913653)\n",
      "Row(post_id=UUID('0dca69ba-0876-46ba-8fd7-ac8191f330a8'), comments=870, likes=4193, post_date=datetime.datetime(2024, 7, 9, 0, 18, 15, 491000), post_type='Static', shares=78, user_id=UUID('71e422ad-509f-4be5-a094-a5c9ee86edc9'), views=46118757)\n",
      "Row(post_id=UUID('647583fe-c02b-4aac-8762-4d2c9e932712'), comments=132, likes=2892, post_date=datetime.datetime(2024, 2, 12, 16, 39, 30, 947000), post_type='Reel', shares=157, user_id=UUID('0c9ff5ce-c1bf-463d-a5d6-b214265d304b'), views=85422358)\n",
      "Row(post_id=UUID('e1f5555a-c881-4eab-9892-a444fdb466c3'), comments=40, likes=1460, post_date=datetime.datetime(2024, 3, 18, 22, 30, 12, 491000), post_type='Carousel', shares=37, user_id=UUID('7e1d5219-5c7b-4ef4-8c83-ccc861b62f03'), views=58672350)\n",
      "Row(post_id=UUID('f49d40bf-f98b-4649-a8a1-5c27b8e1e4be'), comments=238, likes=2756, post_date=datetime.datetime(2025, 1, 3, 22, 41, 22, 964000), post_type='Carousel', shares=201, user_id=UUID('236af528-8130-4c4e-9df8-60941b7bd554'), views=25836855)\n",
      "Row(post_id=UUID('b6568af4-20d3-4014-aff2-fb43b82e527d'), comments=241, likes=3991, post_date=datetime.datetime(2024, 12, 20, 20, 48, 24, 952000), post_type='Static', shares=204, user_id=UUID('8b2d8215-c98b-460b-851e-7fd93e4f5e2f'), views=98359754)\n",
      "Row(post_id=UUID('13dcc384-8dc0-4a5e-b591-2fcc5b202ead'), comments=266, likes=2323, post_date=datetime.datetime(2024, 7, 5, 3, 46, 48, 478000), post_type='Reel', shares=24, user_id=UUID('0a7847f8-bbf5-437b-8c6d-db5f2625653a'), views=33288488)\n",
      "Row(post_id=UUID('79efc0dd-38dc-431c-8f06-16882b43ad3e'), comments=713, likes=3297, post_date=datetime.datetime(2024, 2, 13, 6, 29, 52, 110000), post_type='Carousel', shares=47, user_id=UUID('3176a09d-4563-4308-a77a-2cbb4f0a14d4'), views=23738308)\n",
      "Row(post_id=UUID('940ec0a6-3ad3-47ff-9f4c-03da7d525cd1'), comments=696, likes=3338, post_date=datetime.datetime(2024, 10, 3, 9, 11, 24, 620000), post_type='Reel', shares=216, user_id=UUID('549310ba-8cd0-44e4-8916-f1e4bc0fd0a9'), views=49040288)\n",
      "Row(post_id=UUID('3d5885c9-199f-495d-bdb8-d14bed898181'), comments=166, likes=217, post_date=datetime.datetime(2024, 10, 11, 7, 24, 22, 299000), post_type='Reel', shares=12, user_id=UUID('6019486c-8ecd-4192-8142-1bd3035267e3'), views=8696263)\n",
      "Row(post_id=UUID('5ff99253-d42f-434e-a140-c4dbdc996d53'), comments=586, likes=4776, post_date=datetime.datetime(2024, 6, 22, 22, 18, 42, 919000), post_type='Reel', shares=487, user_id=UUID('30b169c8-971f-4827-9f4b-7a9f60145d77'), views=13238571)\n"
     ]
    }
   ],
   "source": [
    "rows = session.execute(\"SELECT * FROM post_performance\")\n",
    "for row in rows:\n",
    "    print(row)"
   ]
  },
  {
   "cell_type": "code",
   "execution_count": 23,
   "id": "1c70220a",
   "metadata": {},
   "outputs": [
    {
     "name": "stdout",
     "output_type": "stream",
     "text": [
      "Data exported to post_performance_data.csv\n"
     ]
    }
   ],
   "source": [
    "def export_to_csv():\n",
    "    rows = session.execute(\"SELECT * FROM post_performance\")\n",
    "    with open('post_performance_data.csv', 'w', newline='', encoding='utf-8') as csvfile:\n",
    "        csv_writer = csv.writer(csvfile)\n",
    "        csv_writer.writerow(['post_id', 'post_type', 'likes', 'comments', 'shares', 'post_date', 'user_id', 'views'])\n",
    "        for row in rows:\n",
    "            csv_writer.writerow([\n",
    "                row.post_id,\n",
    "                row.post_type,\n",
    "                row.likes,\n",
    "                row.comments,\n",
    "                row.shares,\n",
    "                row.post_date,\n",
    "                row.user_id,\n",
    "                row.views\n",
    "            ])\n",
    "    print(\"Data exported to post_performance_data.csv\")\n",
    "\n",
    "export_to_csv()"
   ]
  },
  {
   "cell_type": "code",
   "execution_count": 16,
   "id": "02efc28b",
   "metadata": {},
   "outputs": [],
   "source": []
  },
  {
   "cell_type": "code",
   "execution_count": 21,
   "id": "f82a0f0b",
   "metadata": {},
   "outputs": [
    {
     "name": "stdout",
     "output_type": "stream",
     "text": [
      "[]\n"
     ]
    }
   ],
   "source": []
  },
  {
   "cell_type": "code",
   "execution_count": 17,
   "id": "c46d5f5d",
   "metadata": {},
   "outputs": [],
   "source": []
  },
  {
   "cell_type": "code",
   "execution_count": null,
   "id": "b2790ab7",
   "metadata": {},
   "outputs": [],
   "source": []
  }
 ],
 "metadata": {
  "kernelspec": {
   "display_name": "Python 3 (ipykernel)",
   "language": "python",
   "name": "python3"
  },
  "language_info": {
   "codemirror_mode": {
    "name": "ipython",
    "version": 3
   },
   "file_extension": ".py",
   "mimetype": "text/x-python",
   "name": "python",
   "nbconvert_exporter": "python",
   "pygments_lexer": "ipython3",
   "version": "3.9.13"
  }
 },
 "nbformat": 4,
 "nbformat_minor": 5
}
